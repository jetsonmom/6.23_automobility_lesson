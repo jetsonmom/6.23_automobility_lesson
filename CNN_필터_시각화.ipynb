{
  "nbformat": 4,
  "nbformat_minor": 0,
  "metadata": {
    "colab": {
      "private_outputs": true,
      "provenance": [],
      "machine_shape": "hm",
      "gpuType": "A100",
      "authorship_tag": "ABX9TyMQhTdYS/LBoEwAsF16JfAH",
      "include_colab_link": true
    },
    "kernelspec": {
      "name": "python3",
      "display_name": "Python 3"
    },
    "language_info": {
      "name": "python"
    },
    "accelerator": "GPU"
  },
  "cells": [
    {
      "cell_type": "markdown",
      "metadata": {
        "id": "view-in-github",
        "colab_type": "text"
      },
      "source": [
        "<a href=\"https://colab.research.google.com/github/jetsonmom/6.23_automobility_lesson/blob/main/CNN_%ED%95%84%ED%84%B0_%EC%8B%9C%EA%B0%81%ED%99%94.ipynb\" target=\"_parent\"><img src=\"https://colab.research.google.com/assets/colab-badge.svg\" alt=\"Open In Colab\"/></a>"
      ]
    },
    {
      "cell_type": "code",
      "execution_count": null,
      "metadata": {
        "id": "sRnSn-Fm14zq"
      },
      "outputs": [],
      "source": [
        "# 📘 CNN 필터 시각화 - Google Colab용 노트북\n",
        "\n",
        "# 🔧 필요한 라이브러리 설치\n",
        "!pip install matplotlib numpy opencv-python\n",
        "\n",
        "# 📦 라이브러리 임포트\n",
        "import cv2\n",
        "import numpy as np\n",
        "import matplotlib.pyplot as plt\n",
        "\n",
        "# 📥 이미지 로드 (파일 업로드 필요 시 아래 코드 사용)\n",
        "from google.colab import files\n",
        "uploaded = files.upload()\n",
        "\n",
        "import io\n",
        "file_bytes = list(uploaded.values())[0]\n",
        "image = cv2.imdecode(np.frombuffer(file_bytes, np.uint8), cv2.IMREAD_COLOR)\n",
        "image = cv2.cvtColor(image, cv2.COLOR_BGR2RGB)\n",
        "\n",
        "# 📏 이미지 정보 출력\n",
        "print(f\"이미지 크기: {image.shape}\")\n",
        "\n",
        "# 🔍 필터 정의 (엣지 검출 등)\n",
        "filters = {\n",
        "    'Original': np.array([[0]]),\n",
        "    'Edge Detection (Sobel X)': np.array([[-1, 0, 1], [-2, 0, 2], [-1, 0, 1]]),\n",
        "    'Edge Detection (Sobel Y)': np.array([[-1,-2,-1],[0,0,0],[1,2,1]]),\n",
        "    'Sharpen': np.array([[0, -1, 0], [-1, 5,-1], [0, -1, 0]]),\n",
        "    'Blur': (1/9) * np.ones((3,3))\n",
        "}\n",
        "\n",
        "# 🧠 CNN 필터 적용 함수\n",
        "def apply_filter(image, kernel):\n",
        "    return cv2.filter2D(src=image, ddepth=-1, kernel=kernel)\n",
        "\n",
        "# 🎨 결과 시각화 함수\n",
        "def plot_filters(image, filters):\n",
        "    plt.figure(figsize=(15, 10))\n",
        "    for i, (name, kernel) in enumerate(filters.items()):\n",
        "        if name == 'Original':\n",
        "            filtered = image\n",
        "        else:\n",
        "            filtered = apply_filter(image, kernel)\n",
        "        plt.subplot(2, 3, i+1)\n",
        "        plt.imshow(filtered)\n",
        "        plt.title(name)\n",
        "        plt.axis('off')\n",
        "    plt.tight_layout()\n",
        "    plt.show()\n",
        "\n",
        "# 📊 필터 시각화 실행\n",
        "plot_filters(image, filters)\n",
        "\n",
        "# ✅ 끝! 이제 CNN 필터 효과를 이미지로 확인할 수 있어요.\n"
      ]
    }
  ]
}