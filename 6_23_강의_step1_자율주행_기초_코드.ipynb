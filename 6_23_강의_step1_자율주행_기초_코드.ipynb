{
  "nbformat": 4,
  "nbformat_minor": 0,
  "metadata": {
    "colab": {
      "private_outputs": true,
      "provenance": [],
      "gpuType": "T4",
      "authorship_tag": "ABX9TyMm69aaEYB2lsjaw8H2osPN",
      "include_colab_link": true
    },
    "kernelspec": {
      "name": "python3",
      "display_name": "Python 3"
    },
    "language_info": {
      "name": "python"
    },
    "accelerator": "GPU"
  },
  "cells": [
    {
      "cell_type": "markdown",
      "metadata": {
        "id": "view-in-github",
        "colab_type": "text"
      },
      "source": [
        "<a href=\"https://colab.research.google.com/github/jetsonmom/6.23_automobility_lesson/blob/main/6_23_%EA%B0%95%EC%9D%98_step1_%EC%9E%90%EC%9C%A8%EC%A3%BC%ED%96%89_%EA%B8%B0%EC%B4%88_%EC%BD%94%EB%93%9C.ipynb\" target=\"_parent\"><img src=\"https://colab.research.google.com/assets/colab-badge.svg\" alt=\"Open In Colab\"/></a>"
      ]
    },
    {
      "cell_type": "markdown",
      "source": [
        "Basic code step_1"
      ],
      "metadata": {
        "id": "V5x9fIby-zHd"
      }
    },
    {
      "cell_type": "markdown",
      "source": [
        "1단계: 라이브러리 설치\n",
        "Colab에서 라이브러리 설치하는 방법"
      ],
      "metadata": {
        "id": "dOXOGGbL-XwG"
      }
    },
    {
      "cell_type": "code",
      "source": [
        "# 첫 번째 셀에서 실행\n",
        "!pip install opencv-python\n",
        "!pip install matplotlib"
      ],
      "metadata": {
        "id": "Ge4qOBS496D7"
      },
      "execution_count": null,
      "outputs": []
    },
    {
      "cell_type": "markdown",
      "source": [
        "2단계: 라이브러리 import 및 설정"
      ],
      "metadata": {
        "id": "In_ca8Rn_4Jy"
      }
    },
    {
      "cell_type": "markdown",
      "source": [
        "이미지 업로드하는 방법\n",
        "핵심만 보시면:\n",
        "\n",
        "cv2.imread() - 이미지 읽기\n",
        "cv2.cvtColor() - 컬러 → 그레이스케일 변환\n",
        "cv2.GaussianBlur() - 블러 처리\n",
        "cv2.Canny() - 엣지 검출\n"
      ],
      "metadata": {
        "id": "L6euc_wS-bDR"
      }
    },
    {
      "cell_type": "markdown",
      "source": [],
      "metadata": {
        "id": "7Pcyc9cT-SSX"
      }
    },
    {
      "cell_type": "code",
      "execution_count": null,
      "metadata": {
        "id": "qZE2GTC_8jBh"
      },
      "outputs": [],
      "source": [
        "import cv2\n",
        "import numpy as np\n",
        "import matplotlib.pyplot as plt\n",
        "# 이미지 로드 및 전처리\n",
        "def load_and_preprocess(image_path):\n",
        "    image = cv2.imread(image_path)\n",
        "    gray = cv2.cvtColor(image, cv2.COLOR_BGR2GRAY)\n",
        "    return image, gray\n",
        "# 기본적인 필터링\n",
        "def apply_filters(image):\n",
        "    blur = cv2.GaussianBlur(image, (5, 5), 0)\n",
        "    edges = cv2.Canny(blur, 50, 150)\n",
        "    return blur, edges"
      ]
    },
    {
      "cell_type": "markdown",
      "source": [
        "3단계: 함수 정의"
      ],
      "metadata": {
        "id": "G4Rc0WTdABBj"
      }
    },
    {
      "cell_type": "code",
      "source": [
        "# 세 번째 셀에서 실행\n",
        "def load_and_preprocess(image_path):\n",
        "    image = cv2.imread(image_path)\n",
        "    if image is None:\n",
        "        print(f\"이미지를 불러올 수 없습니다: {image_path}\")\n",
        "        return None, None\n",
        "    gray = cv2.cvtColor(image, cv2.COLOR_BGR2GRAY)\n",
        "    return image, gray\n",
        "\n",
        "def apply_filters(image):\n",
        "    blur = cv2.GaussianBlur(image, (5, 5), 0)\n",
        "    edges = cv2.Canny(blur, 50, 150)\n",
        "    return blur, edges"
      ],
      "metadata": {
        "id": "_I1xfcviAF4_"
      },
      "execution_count": null,
      "outputs": []
    },
    {
      "cell_type": "markdown",
      "source": [
        "4단계: 테스트 이미지 준비"
      ],
      "metadata": {
        "id": "RgTXiFJuAJ8P"
      }
    },
    {
      "cell_type": "markdown",
      "source": [
        "왼쪽 파일을 열면 road_sample.jpg를 볼 수 있다.\n"
      ],
      "metadata": {
        "id": "qDqGNU7CBieq"
      }
    },
    {
      "cell_type": "code",
      "source": [
        "# 네 번째 셀 - 방법 1: 직접 업로드\n",
        "# from google.colab import files\n",
        "# uploaded = files.upload()\n",
        "# image_path = list(uploaded.keys())[0]\n",
        "\n",
        "# 또는 방법 2: 샘플 이미지 다운로드\n",
        "!wget -O road_sample.jpg \"https://images.unsplash.com/photo-1449824913935-59a10b8d2000\"\n",
        "image_path = \"road_sample.jpg\""
      ],
      "metadata": {
        "id": "8__TZWAgALf1"
      },
      "execution_count": null,
      "outputs": []
    },
    {
      "cell_type": "markdown",
      "source": [
        "5단계: 실행 및 결과 확인"
      ],
      "metadata": {
        "id": "nqwPjTlJAQY5"
      }
    },
    {
      "cell_type": "code",
      "source": [
        "# 다섯 번째 셀에서 실행\n",
        "# 함수 실행\n",
        "image, gray = load_and_preprocess(image_path)\n",
        "\n",
        "if image is not None:\n",
        "    blur, edges = apply_filters(gray)\n",
        "\n",
        "    # 결과 시각화\n",
        "    plt.figure(figsize=(16, 4))\n",
        "\n",
        "    plt.subplot(1, 4, 1)\n",
        "    plt.imshow(cv2.cvtColor(image, cv2.COLOR_BGR2RGB))\n",
        "    plt.title('원본 이미지')\n",
        "    plt.axis('off')\n",
        "\n",
        "    plt.subplot(1, 4, 2)\n",
        "    plt.imshow(gray, cmap='gray')\n",
        "    plt.title('그레이스케일')\n",
        "    plt.axis('off')\n",
        "\n",
        "    plt.subplot(1, 4, 3)\n",
        "    plt.imshow(blur, cmap='gray')\n",
        "    plt.title('가우시안 블러')\n",
        "    plt.axis('off')\n",
        "\n",
        "    plt.subplot(1, 4, 4)\n",
        "    plt.imshow(edges, cmap='gray')\n",
        "    plt.title('엣지 검출')\n",
        "    plt.axis('off')\n",
        "\n",
        "    plt.tight_layout()\n",
        "    plt.show()\n",
        "else:\n",
        "    print(\"이미지 처리에 실패했습니다.\")"
      ],
      "metadata": {
        "id": "VISfecq6ARwT"
      },
      "execution_count": null,
      "outputs": []
    },
    {
      "cell_type": "markdown",
      "source": [],
      "metadata": {
        "id": "15fu3gJRC2bO"
      }
    },
    {
      "cell_type": "code",
      "source": [
        "# 네 번째 셀 - 이미지 다운로드 및 전체 결과 표시\n",
        "from google.colab import files\n",
        "\n",
        "# 방법 1: 직접 업로드 (주석 처리)\n",
        "# uploaded = files.upload()\n",
        "# image_path = list(uploaded.keys())[0]\n",
        "\n",
        "# 방법 2: 샘플 이미지 다운로드\n",
        "print(\"이미지 다운로드 중...\")\n",
        "!wget -O road_sample.jpg \"https://images.unsplash.com/photo-1449824913935-59a10b8d2000\"\n",
        "image_path = \"road_sample.jpg\"\n",
        "print(\"다운로드 완료!\")\n",
        "\n",
        "# 함수 실행\n",
        "print(\"이미지 처리 중...\")\n",
        "image, gray = load_and_preprocess(image_path)\n",
        "\n",
        "if image is not None:\n",
        "    blur, edges = apply_filters(gray)\n",
        "\n",
        "    # 결과 시각화 - 2행으로 배치\n",
        "    plt.figure(figsize=(16, 8))\n",
        "\n",
        "    # 첫 번째 행: 원본과 그레이스케일\n",
        "    plt.subplot(2, 4, 1)\n",
        "    plt.imshow(cv2.cvtColor(image, cv2.COLOR_BGR2RGB))\n",
        "    plt.title('원본 이미지 (컬러)', fontsize=12)\n",
        "    plt.axis('off')\n",
        "\n",
        "    plt.subplot(2, 4, 2)\n",
        "    plt.imshow(gray, cmap='gray')\n",
        "    plt.title('그레이스케일 변환', fontsize=12)\n",
        "    plt.axis('off')\n",
        "\n",
        "    plt.subplot(2, 4, 3)\n",
        "    plt.imshow(blur, cmap='gray')\n",
        "    plt.title('가우시안 블러 적용', fontsize=12)\n",
        "    plt.axis('off')\n",
        "\n",
        "    plt.subplot(2, 4, 4)\n",
        "    plt.imshow(edges, cmap='gray')\n",
        "    plt.title('엣지 검출 (Canny)', fontsize=12)\n",
        "    plt.axis('off')\n",
        "\n",
        "    # 두 번째 행: 비교용 확대 이미지들\n",
        "    plt.subplot(2, 4, 5)\n",
        "    plt.imshow(cv2.cvtColor(image, cv2.COLOR_BGR2RGB))\n",
        "    plt.title('원본 (확대)', fontsize=12)\n",
        "    plt.axis('off')\n",
        "\n",
        "    plt.subplot(2, 4, 6)\n",
        "    plt.imshow(gray, cmap='gray')\n",
        "    plt.title('그레이스케일 (확대)', fontsize=12)\n",
        "    plt.axis('off')\n",
        "\n",
        "    plt.subplot(2, 4, 7)\n",
        "    plt.imshow(blur, cmap='gray')\n",
        "    plt.title('블러 (확대)', fontsize=12)\n",
        "    plt.axis('off')\n",
        "\n",
        "    plt.subplot(2, 4, 8)\n",
        "    plt.imshow(edges, cmap='gray')\n",
        "    plt.title('엣지 (확대)', fontsize=12)\n",
        "    plt.axis('off')\n",
        "\n",
        "    plt.tight_layout()\n",
        "    plt.show()\n",
        "\n",
        "    # 처리 결과 정보 출력\n",
        "    print(\"\\n=== 처리 결과 정보 ===\")\n",
        "    print(f\"원본 이미지 크기: {image.shape}\")\n",
        "    print(f\"그레이스케일 크기: {gray.shape}\")\n",
        "    print(f\"검출된 엣지 픽셀 수: {np.sum(edges > 0)}개\")\n",
        "    print(f\"전체 픽셀 중 엣지 비율: {(np.sum(edges > 0) / edges.size * 100):.2f}%\")\n",
        "\n",
        "else:\n",
        "    print(\"❌ 이미지 처리에 실패했습니다.\")\n",
        "    print(\"다른 이미지 URL을 시도해보세요.\")\n",
        "\n",
        "print(\"\\n처리 완료! 🚗\")"
      ],
      "metadata": {
        "id": "f_wxgYdmC24H"
      },
      "execution_count": null,
      "outputs": []
    },
    {
      "cell_type": "markdown",
      "source": [
        "위의 결과 사진에서 설명부분이 사각형으로 나온다."
      ],
      "metadata": {
        "id": "xbZdULI3EKg7"
      }
    },
    {
      "cell_type": "code",
      "source": [
        "# 영어 버전 - 상세 설명 포함\n",
        "!wget -O road_sample.jpg \"https://images.unsplash.com/photo-1449824913935-59a10b8d2000\"\n",
        "image_path = \"road_sample.jpg\"\n",
        "\n",
        "# 함수 실행 및 결과 표시\n",
        "image, gray = load_and_preprocess(image_path)\n",
        "blur, edges = apply_filters(gray)\n",
        "\n",
        "# 영어 제목과 설명 포함\n",
        "plt.figure(figsize=(18, 5))\n",
        "\n",
        "plt.subplot(1, 4, 1)\n",
        "plt.imshow(cv2.cvtColor(image, cv2.COLOR_BGR2RGB))\n",
        "plt.title('Original Image\\n(RGB Color)', fontsize=12, fontweight='bold')\n",
        "plt.axis('off')\n",
        "\n",
        "plt.subplot(1, 4, 2)\n",
        "plt.imshow(gray, cmap='gray')\n",
        "plt.title('Grayscale Conversion\\n(Single Channel)', fontsize=12, fontweight='bold')\n",
        "plt.axis('off')\n",
        "\n",
        "plt.subplot(1, 4, 3)\n",
        "plt.imshow(blur, cmap='gray')\n",
        "plt.title('Gaussian Blur\\n(Noise Reduction)', fontsize=12, fontweight='bold')\n",
        "plt.axis('off')\n",
        "\n",
        "plt.subplot(1, 4, 4)\n",
        "plt.imshow(edges, cmap='gray')\n",
        "plt.title('Edge Detection\\n(Canny Algorithm)', fontsize=12, fontweight='bold')\n",
        "plt.axis('off')\n",
        "\n",
        "plt.suptitle('Computer Vision Pipeline for Autonomous Driving',\n",
        "             fontsize=16, fontweight='bold', y=1.02)\n",
        "plt.tight_layout()\n",
        "plt.show()\n",
        "\n",
        "# 영어로 결과 설명\n",
        "print(\"🔍 ANALYSIS RESULTS:\")\n",
        "print(f\"📊 Edge pixels detected: {np.sum(edges > 0):,}\")\n",
        "print(f\"📈 Edge detection ratio: {(np.sum(edges > 0) / edges.size * 100):.1f}%\")\n",
        "print(\"✅ Successfully extracted road boundaries and vehicle contours!\")"
      ],
      "metadata": {
        "id": "ISmxG-1GEEvk"
      },
      "execution_count": null,
      "outputs": []
    },
    {
      "cell_type": "markdown",
      "source": [
        "아주 좋은 결과가 나왔네요! 각 단계별로 어떤 일이 일어났는지 자세히 설명해드릴게요.\n",
        "\n",
        "## 🔍 결과 분석\n",
        "\n",
        "### 1️⃣ **원본 이미지 (컬러)**\n",
        "- 뉴욕 맨하탄의 도시 도로 사진\n",
        "- 건물, 차량, 도로 표시가 모두 선명하게 보임\n",
        "- 컬러 정보가 풍부하지만 처리하기에는 복잡\n",
        "\n",
        "### 2️⃣ **그레이스케일 변환**\n",
        "```python\n",
        "gray = cv2.cvtColor(image, cv2.COLOR_BGR2GRAY)\n",
        "```\n",
        "- **목적**: 색상 정보 제거, 밝기 정보만 남김\n",
        "- **효과**: 처리 속도 3배 빠름 (RGB → 1채널)\n",
        "- **자율주행 활용**: 차선은 주로 밝기 차이로 구분되므로 색상 불필요\n",
        "\n",
        "### 3️⃣ **가우시안 블러 적용**\n",
        "```python\n",
        "blur = cv2.GaussianBlur(image, (5, 5), 0)\n",
        "```\n",
        "- **목적**: 노이즈 제거 및 이미지 부드럽게 만들기\n",
        "- **효과**: 작은 잡음들이 사라지고 전체적으로 부드러워짐\n",
        "- **파라미터 의미**:\n",
        "  - `(5, 5)`: 5×5 커널 크기 (클수록 더 흐려짐)\n",
        "  - `0`: 자동으로 표준편차 계산\n",
        "\n",
        "### 4️⃣ **엣지 검출 (Canny)**\n",
        "```python\n",
        "edges = cv2.Canny(blur, 50, 150)\n",
        "```\n",
        "- **목적**: 객체의 경계선만 추출\n",
        "- **결과**:\n",
        "  - ✅ **도로 경계선** 명확히 검출\n",
        "  - ✅ **건물 윤곽** 선명하게 추출\n",
        "  - ✅ **차량 경계** 잘 구분됨\n",
        "- **파라미터 의미**:\n",
        "  - `50`: 낮은 임계값 (약한 엣지)\n",
        "  - `150`: 높은 임계값 (강한 엣지)\n",
        "\n",
        "## 🚗 자율주행 관점에서 분석\n",
        "\n",
        "### **성공적인 부분**\n",
        "1. **도로 중앙선**: 하얀 점선이 명확히 검출됨\n",
        "2. **건물 경계**: 도로와 건물 구분 가능\n",
        "3. **차량 윤곽**: 앞차들의 경계선 뚜렷\n",
        "\n",
        "### **도전적인 부분**\n",
        "1. **너무 많은 정보**: 건물, 간판 등 불필요한 엣지도 많음\n",
        "2. **복잡한 도시 환경**: 단순한 고속도로보다 처리 어려움\n",
        "\n"
      ],
      "metadata": {
        "id": "1HZDguTfDhxb"
      }
    },
    {
      "cell_type": "markdown",
      "source": [],
      "metadata": {
        "id": "MyY1LkR8E_zk"
      }
    },
    {
      "cell_type": "code",
      "source": [
        "# 다섯 번째 셀 - 차선 검출 고급 단계\n",
        "import cv2\n",
        "import numpy as np\n",
        "import matplotlib.pyplot as plt\n",
        "\n",
        "def set_region_of_interest(image):\n",
        "    \"\"\"관심 영역(ROI) 설정 - 도로 부분만 추출\"\"\"\n",
        "    height, width = image.shape\n",
        "\n",
        "    # 사다리꼴 모양으로 도로 영역 설정\n",
        "    vertices = np.array([\n",
        "        [(0, height),                    # 왼쪽 아래\n",
        "         (width//2 - 50, height//2 + 50), # 왼쪽 위\n",
        "         (width//2 + 50, height//2 + 50), # 오른쪽 위\n",
        "         (width, height)]                 # 오른쪽 아래\n",
        "    ], dtype=np.int32)\n",
        "\n",
        "    # 마스크 생성\n",
        "    mask = np.zeros_like(image)\n",
        "    cv2.fillPoly(mask, vertices, 255)\n",
        "\n",
        "    # ROI 적용\n",
        "    roi = cv2.bitwise_and(image, mask)\n",
        "    return roi, mask\n",
        "\n",
        "def detect_lane_lines(roi):\n",
        "    \"\"\"허프 변환으로 차선 검출\"\"\"\n",
        "    lines = cv2.HoughLinesP(\n",
        "        roi,\n",
        "        rho=1,              # 거리 해상도\n",
        "        theta=np.pi/180,    # 각도 해상도 (1도)\n",
        "        threshold=50,       # 최소 교점 개수\n",
        "        minLineLength=100,  # 최소 선 길이\n",
        "        maxLineGap=50       # 최대 선 간격\n",
        "    )\n",
        "    return lines\n",
        "\n",
        "def separate_lanes(lines, image_width):\n",
        "    \"\"\"좌우 차선 분리\"\"\"\n",
        "    if lines is None:\n",
        "        return None, None\n",
        "\n",
        "    left_lines = []\n",
        "    right_lines = []\n",
        "\n",
        "    for line in lines:\n",
        "        x1, y1, x2, y2 = line[0]\n",
        "\n",
        "        # 기울기 계산\n",
        "        if x2 - x1 == 0:  # 수직선 제외\n",
        "            continue\n",
        "        slope = (y2 - y1) / (x2 - x1)\n",
        "\n",
        "        # 기울기로 좌우 구분\n",
        "        if slope < -0.5:  # 왼쪽 차선 (음의 기울기)\n",
        "            left_lines.append(line[0])\n",
        "        elif slope > 0.5:  # 오른쪽 차선 (양의 기울기)\n",
        "            right_lines.append(line[0])\n",
        "\n",
        "    return left_lines, right_lines\n",
        "\n",
        "def draw_lanes(image, left_lines, right_lines):\n",
        "    \"\"\"차선을 이미지에 그리기\"\"\"\n",
        "    lane_image = np.zeros_like(image)\n",
        "\n",
        "    # 왼쪽 차선 그리기 (빨간색)\n",
        "    if left_lines:\n",
        "        for line in left_lines:\n",
        "            x1, y1, x2, y2 = line\n",
        "            cv2.line(lane_image, (x1, y1), (x2, y2), (0, 0, 255), 3)\n",
        "\n",
        "    # 오른쪽 차선 그리기 (파란색)\n",
        "    if right_lines:\n",
        "        for line in right_lines:\n",
        "            x1, y1, x2, y2 = line\n",
        "            cv2.line(lane_image, (x1, y1), (x2, y2), (255, 0, 0), 3)\n",
        "\n",
        "    return lane_image\n",
        "\n",
        "# 실제 실행 코드\n",
        "print(\"🚗 Advanced Lane Detection Starting...\")\n",
        "\n",
        "# 이전 결과(edges) 사용\n",
        "if 'edges' in locals():\n",
        "    # 1단계: ROI 설정\n",
        "    roi, mask = set_region_of_interest(edges)\n",
        "\n",
        "    # 2단계: 차선 검출\n",
        "    lines = detect_lane_lines(roi)\n",
        "\n",
        "    # 3단계: 좌우 차선 분리\n",
        "    left_lines, right_lines = separate_lanes(lines, image.shape[1])\n",
        "\n",
        "    # 4단계: 결과 시각화\n",
        "    plt.figure(figsize=(20, 12))\n",
        "\n",
        "    # 첫 번째 행: 처리 과정\n",
        "    plt.subplot(3, 4, 1)\n",
        "    plt.imshow(edges, cmap='gray')\n",
        "    plt.title('1. Edge Detection Result', fontweight='bold')\n",
        "    plt.axis('off')\n",
        "\n",
        "    plt.subplot(3, 4, 2)\n",
        "    plt.imshow(mask, cmap='gray')\n",
        "    plt.title('2. ROI Mask', fontweight='bold')\n",
        "    plt.axis('off')\n",
        "\n",
        "    plt.subplot(3, 4, 3)\n",
        "    plt.imshow(roi, cmap='gray')\n",
        "    plt.title('3. ROI Applied', fontweight='bold')\n",
        "    plt.axis('off')\n",
        "\n",
        "    # 차선 검출 결과\n",
        "    lane_image = draw_lanes(image, left_lines, right_lines)\n",
        "    plt.subplot(3, 4, 4)\n",
        "    plt.imshow(cv2.cvtColor(lane_image, cv2.COLOR_BGR2RGB))\n",
        "    plt.title('4. Detected Lanes', fontweight='bold')\n",
        "    plt.axis('off')\n",
        "\n",
        "    # 두 번째 행: 최종 결과\n",
        "    plt.subplot(3, 4, 5)\n",
        "    original_rgb = cv2.cvtColor(image, cv2.COLOR_BGR2RGB)\n",
        "    plt.imshow(original_rgb)\n",
        "    plt.title('Original Image', fontweight='bold')\n",
        "    plt.axis('off')\n",
        "\n",
        "    # ROI를 원본에 오버레이\n",
        "    plt.subplot(3, 4, 6)\n",
        "    roi_overlay = cv2.addWeighted(original_rgb, 0.7, cv2.cvtColor(mask, cv2.COLOR_GRAY2RGB), 0.3, 0)\n",
        "    plt.imshow(roi_overlay)\n",
        "    plt.title('ROI Overlay', fontweight='bold')\n",
        "    plt.axis('off')\n",
        "\n",
        "    # 차선을 원본에 오버레이\n",
        "    plt.subplot(3, 4, 7)\n",
        "    final_result = cv2.addWeighted(original_rgb, 0.8, cv2.cvtColor(lane_image, cv2.COLOR_BGR2RGB), 1, 0)\n",
        "    plt.imshow(final_result)\n",
        "    plt.title('Final Lane Detection', fontweight='bold')\n",
        "    plt.axis('off')\n",
        "\n",
        "    # 통계 정보\n",
        "    plt.subplot(3, 4, 8)\n",
        "    plt.text(0.1, 0.8, f\"🔍 Detection Results:\", fontsize=14, fontweight='bold')\n",
        "    plt.text(0.1, 0.6, f\"Left lanes: {len(left_lines) if left_lines else 0}\", fontsize=12)\n",
        "    plt.text(0.1, 0.4, f\"Right lanes: {len(right_lines) if right_lines else 0}\", fontsize=12)\n",
        "    plt.text(0.1, 0.2, f\"Total lines: {len(lines) if lines is not None else 0}\", fontsize=12)\n",
        "    plt.xlim(0, 1)\n",
        "    plt.ylim(0, 1)\n",
        "    plt.axis('off')\n",
        "\n",
        "    plt.suptitle('🚗 Complete Lane Detection Pipeline', fontsize=16, fontweight='bold')\n",
        "    plt.tight_layout()\n",
        "    plt.show()\n",
        "\n",
        "    # 결과 분석\n",
        "    print(\"✅ Lane Detection Completed!\")\n",
        "    print(f\"📊 Detected {len(left_lines) if left_lines else 0} left lane lines\")\n",
        "    print(f\"📊 Detected {len(right_lines) if right_lines else 0} right lane lines\")\n",
        "    if left_lines and right_lines:\n",
        "        print(\"🎯 Both lanes successfully detected!\")\n",
        "    else:\n",
        "        print(\"⚠️  Only partial lane detection - try adjusting parameters\")\n",
        "\n",
        "else:\n",
        "    print(\"❌ Please run the edge detection code first!\")"
      ],
      "metadata": {
        "id": "4ZavCeREE_Dh"
      },
      "execution_count": null,
      "outputs": []
    },
    {
      "cell_type": "code",
      "source": [],
      "metadata": {
        "id": "bmM4N8C5DHhR"
      },
      "execution_count": null,
      "outputs": []
    }
  ]
}