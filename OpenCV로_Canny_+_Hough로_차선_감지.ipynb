{
  "nbformat": 4,
  "nbformat_minor": 0,
  "metadata": {
    "colab": {
      "private_outputs": true,
      "provenance": [],
      "machine_shape": "hm",
      "gpuType": "A100",
      "authorship_tag": "ABX9TyNhwApoYfrwfTSQ1NkfTTTo",
      "include_colab_link": true
    },
    "kernelspec": {
      "name": "python3",
      "display_name": "Python 3"
    },
    "language_info": {
      "name": "python"
    },
    "accelerator": "GPU"
  },
  "cells": [
    {
      "cell_type": "markdown",
      "metadata": {
        "id": "view-in-github",
        "colab_type": "text"
      },
      "source": [
        "<a href=\"https://colab.research.google.com/github/jetsonmom/6.23_automobility_lesson/blob/main/OpenCV%EB%A1%9C_Canny_%2B_Hough%EB%A1%9C_%EC%B0%A8%EC%84%A0_%EA%B0%90%EC%A7%80.ipynb\" target=\"_parent\"><img src=\"https://colab.research.google.com/assets/colab-badge.svg\" alt=\"Open In Colab\"/></a>"
      ]
    },
    {
      "cell_type": "markdown",
      "source": [
        "Step 1: OpenCV로 Canny + Hough로 차선 감지\n",
        "\n",
        "Step 2: ROI 적용 및 영상 처리\n",
        "\n",
        "Step 3: CNN을 사용한 간단한 edge 분류 (후속 실습)"
      ],
      "metadata": {
        "id": "bhCuk0q0-4qn"
      }
    },
    {
      "cell_type": "code",
      "source": [
        "# 구글 드라이브 마운트 (선택)\n",
        "from google.colab import drive\n",
        "drive.mount('/content/drive')\n",
        "\n",
        "# OpenCV 설치\n",
        "!pip install opencv-python\n",
        "import cv2\n",
        "import numpy as np\n",
        "import matplotlib.pyplot as plt\n"
      ],
      "metadata": {
        "id": "mr17PdeZ-3IX"
      },
      "execution_count": null,
      "outputs": []
    },
    {
      "cell_type": "code",
      "source": [
        "# yt-dlp 설치\n",
        "!pip install yt-dlp\n",
        "\n",
        "# 원하는 유튜브 영상 다운로드\n",
        "!yt-dlp -f bestvideo+bestaudio --merge-output-format mp4 https://www.youtube.com/shorts/s5ynrR1x9ig\n"
      ],
      "metadata": {
        "id": "gglEaV1r_21l"
      },
      "execution_count": null,
      "outputs": []
    },
    {
      "cell_type": "markdown",
      "source": [
        "! 업로드하신 영상(mp4 등) 파일은 cv2.imread()로는 읽을 수 없고, **cv2.VideoCapture()**를 사용해서 프레임 단위로 추출해야"
      ],
      "metadata": {
        "id": "s2Lekm_cBzpx"
      }
    },
    {
      "cell_type": "code",
      "source": [
        "import cv2\n",
        "from google.colab import files\n",
        "import matplotlib.pyplot as plt\n",
        "\n",
        "# 영상 파일 업로드\n",
        "uploaded = files.upload()\n",
        "\n",
        "# 파일 이름 가져오기\n",
        "video_path = list(uploaded.keys())[0]\n",
        "print(\"업로드한 영상:\", video_path)\n",
        "\n",
        "# OpenCV로 영상 열기\n",
        "cap = cv2.VideoCapture(video_path)\n",
        "\n",
        "# 첫 프레임 읽기\n",
        "ret, frame = cap.read()\n",
        "cap.release()\n",
        "\n",
        "if not ret:\n",
        "    print(\"❌ 영상을 읽을 수 없습니다.\")\n",
        "else:\n",
        "    # 프레임을 출력해보기\n",
        "    plt.imshow(cv2.cvtColor(frame, cv2.COLOR_BGR2RGB))\n",
        "    plt.title(\"첫 번째 프레임\")\n",
        "    plt.axis('off')\n",
        "    plt.show()\n"
      ],
      "metadata": {
        "id": "3NTdCAiQB_As"
      },
      "execution_count": null,
      "outputs": []
    },
    {
      "cell_type": "code",
      "source": [
        "첫 프레임만 차선 인식"
      ],
      "metadata": {
        "id": "3uRtt5bgDG5Y"
      },
      "execution_count": null,
      "outputs": []
    },
    {
      "cell_type": "code",
      "source": [
        "import cv2\n",
        "from google.colab import files\n",
        "import matplotlib.pyplot as plt\n",
        "import numpy as np\n",
        "\n",
        "# 영상 업로드\n",
        "uploaded = files.upload()\n",
        "video_path = list(uploaded.keys())[0]\n",
        "\n",
        "# 영상에서 첫 프레임 가져오기\n",
        "cap = cv2.VideoCapture(video_path)\n",
        "ret, frame = cap.read()\n",
        "cap.release()\n",
        "\n",
        "if not ret:\n",
        "    raise ValueError(\"영상을 읽을 수 없습니다.\")\n",
        "\n",
        "# 1. 그레이스케일 변환\n",
        "gray = cv2.cvtColor(frame, cv2.COLOR_BGR2GRAY)\n",
        "\n",
        "# 2. 블러 → 에지(Canny)\n",
        "blur = cv2.GaussianBlur(gray, (5, 5), 0)\n",
        "edges = cv2.Canny(blur, 50, 150)\n",
        "\n",
        "# 3. ROI 설정 (영상 하단 절반)\n",
        "height, width = edges.shape\n",
        "mask = np.zeros_like(edges)\n",
        "polygon = np.array([[\n",
        "    (0, height),\n",
        "    (width, height),\n",
        "    (width, int(height * 0.6)),\n",
        "    (0, int(height * 0.6))\n",
        "]])\n",
        "cv2.fillPoly(mask, polygon, 255)\n",
        "roi = cv2.bitwise_and(edges, mask)\n",
        "\n",
        "# 4. Hough Transform으로 직선 검출\n",
        "lines = cv2.HoughLinesP(roi, 2, np.pi / 180, threshold=50, minLineLength=40, maxLineGap=50)\n",
        "\n",
        "# 5. 원본 프레임에 선 그리기\n",
        "line_image = frame.copy()\n",
        "if lines is not None:\n",
        "    for line in lines:\n",
        "        x1, y1, x2, y2 = line[0]\n",
        "        cv2.line(line_image, (x1, y1), (x2, y2), (0, 255, 0), 5)\n",
        "\n",
        "# 6. 결과 출력\n",
        "plt.figure(figsize=(12, 6))\n",
        "plt.subplot(1, 2, 1)\n",
        "plt.imshow(cv2.cvtColor(frame, cv2.COLOR_BGR2RGB))\n",
        "plt.title(\"원본 프레임\")\n",
        "\n",
        "plt.subplot(1, 2, 2)\n",
        "plt.imshow(cv2.cvtColor(line_image, cv2.COLOR_BGR2RGB))\n",
        "plt.title(\"차선 인식 결과\")\n",
        "plt.axis('off')\n",
        "plt.show()\n"
      ],
      "metadata": {
        "id": "1I9ibxS6_Eqt"
      },
      "execution_count": null,
      "outputs": []
    },
    {
      "cell_type": "code",
      "source": [
        "import cv2\n",
        "import numpy as np\n",
        "from google.colab import files\n",
        "\n",
        "# 영상 업로드\n",
        "uploaded = files.upload()\n",
        "video_path = list(uploaded.keys())[0]\n",
        "\n",
        "# 원본 영상 읽기\n",
        "cap = cv2.VideoCapture(video_path)\n",
        "\n",
        "# 영상 정보 가져오기\n",
        "width  = int(cap.get(cv2.CAP_PROP_FRAME_WIDTH))\n",
        "height = int(cap.get(cv2.CAP_PROP_FRAME_HEIGHT))\n",
        "fps    = cap.get(cv2.CAP_PROP_FPS)\n",
        "\n",
        "# 결과 저장용 비디오 라이터 설정\n",
        "out = cv2.VideoWriter('lane_detected_output.mp4', cv2.VideoWriter_fourcc(*'mp4v'), fps, (width, height))\n",
        "\n",
        "while cap.isOpened():\n",
        "    ret, frame = cap.read()\n",
        "    if not ret:\n",
        "        break\n",
        "\n",
        "    # 1. 그레이 변환 & 블러 & 에지\n",
        "    gray = cv2.cvtColor(frame, cv2.COLOR_BGR2GRAY)\n",
        "    blur = cv2.GaussianBlur(gray, (5, 5), 0)\n",
        "    edges = cv2.Canny(blur, 50, 150)\n",
        "\n",
        "    # 2. ROI 마스크\n",
        "    mask = np.zeros_like(edges)\n",
        "    polygon = np.array([[\n",
        "        (0, height),\n",
        "        (width, height),\n",
        "        (width, int(height * 0.6)),\n",
        "        (0, int(height * 0.6))\n",
        "    ]])\n",
        "    cv2.fillPoly(mask, polygon, 255)\n",
        "    roi = cv2.bitwise_and(edges, mask)\n",
        "\n",
        "    # 3. 허프 변환\n",
        "    lines = cv2.HoughLinesP(roi, 2, np.pi / 180, threshold=50, minLineLength=40, maxLineGap=50)\n",
        "\n",
        "    # 4. 차선 그리기\n",
        "    line_image = frame.copy()\n",
        "    if lines is not None:\n",
        "        for line in lines:\n",
        "            x1, y1, x2, y2 = line[0]\n",
        "            cv2.line(line_image, (x1, y1), (x2, y2), (0, 255, 0), 5)\n",
        "\n",
        "    # 5. 프레임 저장\n",
        "    out.write(line_image)\n",
        "\n",
        "cap.release()\n",
        "out.release()\n",
        "print(\"✅ 완료: lane_detected_output.mp4 저장됨!\")\n"
      ],
      "metadata": {
        "id": "IInsHoY8DSad"
      },
      "execution_count": null,
      "outputs": []
    }
  ]
}