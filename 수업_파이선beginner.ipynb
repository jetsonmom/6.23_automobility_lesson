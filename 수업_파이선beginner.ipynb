{
  "nbformat": 4,
  "nbformat_minor": 0,
  "metadata": {
    "colab": {
      "private_outputs": true,
      "provenance": [],
      "machine_shape": "hm",
      "gpuType": "A100",
      "authorship_tag": "ABX9TyPGdR0EnAwk+pTco4LlGlEa",
      "include_colab_link": true
    },
    "kernelspec": {
      "name": "python3",
      "display_name": "Python 3"
    },
    "language_info": {
      "name": "python"
    },
    "accelerator": "GPU"
  },
  "cells": [
    {
      "cell_type": "markdown",
      "metadata": {
        "id": "view-in-github",
        "colab_type": "text"
      },
      "source": [
        "<a href=\"https://colab.research.google.com/github/jetsonmom/6.23_automobility_lesson/blob/main/%EC%88%98%EC%97%85_%ED%8C%8C%EC%9D%B4%EC%84%A0beginner.ipynb\" target=\"_parent\"><img src=\"https://colab.research.google.com/assets/colab-badge.svg\" alt=\"Open In Colab\"/></a>"
      ]
    },
    {
      "cell_type": "code",
      "execution_count": null,
      "metadata": {
        "id": "Mx0b8S6svDrr"
      },
      "outputs": [],
      "source": [
        "# 📝 [1] 첫 실습: 출력하기\n",
        "# ▶ print() 함수로 인사말을 출력해보세요.\n",
        "print(\"안녕하세요! 코랩에서 파이썬을 배워봅시다 😊\")\n"
      ]
    },
    {
      "cell_type": "code",
      "source": [
        "# 📝 [2] 변수 사용해보기\n",
        "# ▶ 숫자형 변수와 문자열 변수를 사용해 봅니다.\n",
        "name = \"홍길동\"\n",
        "age = 16\n",
        "print(name, \"님의 나이는\", age, \"세입니다.\")\n"
      ],
      "metadata": {
        "id": "zofhwzRrvcH7"
      },
      "execution_count": null,
      "outputs": []
    },
    {
      "cell_type": "code",
      "source": [
        "# 📝 [3] 리스트(List) 사용\n",
        "# ▶ 여러 과일 이름을 저장하고 출력해봅니다.\n",
        "fruits = [\"사과\", \"바나나\", \"포도\", \"귤\"]\n",
        "print(\"과일 목록:\", fruits)\n"
      ],
      "metadata": {
        "id": "VB7ZfakPvduY"
      },
      "execution_count": null,
      "outputs": []
    },
    {
      "cell_type": "code",
      "source": [
        "# 📝 [4] 반복문 for\n",
        "# ▶ 리스트에 있는 과일을 하나씩 출력해 봅니다.\n",
        "for fruit in fruits:\n",
        "    print(\"맛있는 과일:\", fruit)\n"
      ],
      "metadata": {
        "id": "a89jqYLAvjpW"
      },
      "execution_count": null,
      "outputs": []
    },
    {
      "cell_type": "code",
      "source": [
        "# 📝 [5] 조건문 if\n",
        "# ▶ 나이에 따라 출력 문구를 다르게 해봅니다.\n",
        "if age >= 18:\n",
        "    print(\"성인입니다.\")\n",
        "else:\n",
        "    print(\"청소년입니다.\")\n"
      ],
      "metadata": {
        "id": "XlEA2fAGvnR_"
      },
      "execution_count": null,
      "outputs": []
    },
    {
      "cell_type": "markdown",
      "source": [],
      "metadata": {
        "id": "0makePFmvHBz"
      }
    },
    {
      "cell_type": "code",
      "source": [
        "# 📝 [6] 간단한 입력 받기 (주의: 코랩에서는 실행시마다 입력칸이 나타납니다)\n",
        "# ▶ 사용자 이름을 입력받아 인사합니다.\n",
        "name = input(\"이름을 입력하세요: \")\n",
        "print(\"반가워요,\", name, \"님!\")\n"
      ],
      "metadata": {
        "id": "hFLDl8fbvtcw"
      },
      "execution_count": null,
      "outputs": []
    },
    {
      "cell_type": "code",
      "source": [
        "# 📝 [7] 시각화 예제 - matplotlib\n",
        "# ▶ 간단한 선 그래프 그려보기\n",
        "import matplotlib.pyplot as plt\n",
        "\n",
        "x = [1, 2, 3, 4, 5]\n",
        "y = [10, 20, 15, 30, 25]\n",
        "\n",
        "plt.plot(x, y)\n",
        "plt.title(\"간단한 선 그래프\")\n",
        "plt.xlabel(\"시간\")\n",
        "plt.ylabel(\"값\")\n",
        "plt.grid(True)\n",
        "plt.show()\n"
      ],
      "metadata": {
        "id": "-TIGLsrdvxzC"
      },
      "execution_count": null,
      "outputs": []
    },
    {
      "cell_type": "code",
      "source": [
        "# 사용자에게 숫자를 입력받아 짝수인지 홀수인지 출력하는 프로그램을 만드세요.\n",
        "\n",
        "num = int(input(\"숫자를 입력하세요: \"))\n",
        "\n",
        "# 여기에 if문을 작성하세요\n"
      ],
      "metadata": {
        "id": "qX7QJIFZwBwX"
      },
      "execution_count": null,
      "outputs": []
    },
    {
      "cell_type": "code",
      "source": [
        "# 점수를 입력받아 다음 기준에 따라 학점을 출력하세요.\n",
        "# 90 이상: A, 80 이상: B, 70 이상: C, 60 이상: D, 나머지: F\n",
        "\n",
        "score = int(input(\"점수를 입력하세요: \"))\n",
        "\n",
        "# 여기에 if-elif-else 문을 작성하세요\n"
      ],
      "metadata": {
        "id": "CA_B5YoUwDXN"
      },
      "execution_count": null,
      "outputs": []
    },
    {
      "cell_type": "code",
      "source": [
        "# 저장된 사용자 이름과 비밀번호를 이용해 로그인 확인 프로그램을 만드세요.\n",
        "# 이름이 일치하고 비밀번호도 일치하면 \"로그인 성공!\" 출력\n",
        "# 하나라도 틀리면 \"로그인 실패!\" 출력\n",
        "\n",
        "user_id = \"student\"\n",
        "user_pw = \"pass123\"\n",
        "\n",
        "# 입력받기\n",
        "input_id = input(\"아이디를 입력하세요: \")\n",
        "input_pw = input(\"비밀번호를 입력하세요: \")\n",
        "\n",
        "# 여기에 조건문을 작성하세요\n"
      ],
      "metadata": {
        "id": "FjGjKBJowFmL"
      },
      "execution_count": null,
      "outputs": []
    },
    {
      "cell_type": "code",
      "source": [
        "# 키(cm)를 입력받아 140cm 이상이면 \"탑승 가능\", 아니면 \"탑승 불가\" 출력\n",
        "# 그리고, 120cm 미만이면 \"탑승 절대 불가\"라고 출력하도록 조건을 추가하세요.\n",
        "\n",
        "height = int(input(\"키를 입력하세요 (cm): \"))\n",
        "\n",
        "# 조건을 if/elif/else로 나누어 작성하세요\n"
      ],
      "metadata": {
        "id": "knkUt1ytwHhB"
      },
      "execution_count": null,
      "outputs": []
    },
    {
      "cell_type": "code",
      "source": [
        "# 두 개의 숫자를 입력받아 더 큰 수를 출력하세요.\n",
        "# 두 수가 같으면 \"두 수는 같습니다\"라고 출력하세요.\n",
        "\n",
        "a = int(input(\"첫 번째 수: \"))\n",
        "b = int(input(\"두 번째 수: \"))\n",
        "\n",
        "# if/elif/else로 조건을 나누어 작성하세요\n"
      ],
      "metadata": {
        "id": "NT3XAYzAwIND"
      },
      "execution_count": null,
      "outputs": []
    },
    {
      "cell_type": "code",
      "source": [
        "# 1부터 5까지 숫자를 한 줄씩 출력해보세요.\n",
        "\n",
        "for i in range(1, 6):\n",
        "    print(i)\n"
      ],
      "metadata": {
        "id": "SkR9g1UFwUAA"
      },
      "execution_count": null,
      "outputs": []
    },
    {
      "cell_type": "code",
      "source": [
        "# \"안녕하세요!\"를 3번 반복 출력해보세요.\n",
        "\n",
        "for i in range(3):\n",
        "    print(\"안녕하세요!\")\n"
      ],
      "metadata": {
        "id": "fkZk45A5wWU2"
      },
      "execution_count": null,
      "outputs": []
    },
    {
      "cell_type": "code",
      "source": [
        "# fruits 리스트의 각 과일을 한 줄씩 출력하세요.\n",
        "\n",
        "fruits = ['사과', '바나나', '포도', '귤']\n",
        "\n",
        "for fruit in fruits:\n",
        "    print(fruit)\n"
      ],
      "metadata": {
        "id": "UvLOzP4OwYAb"
      },
      "execution_count": null,
      "outputs": []
    },
    {
      "cell_type": "code",
      "source": [
        "# 1부터 10까지 중에서 짝수만 출력해보세요.\n",
        "\n",
        "for i in range(1, 11):\n",
        "    if i % 2 == 0:\n",
        "        print(i)\n"
      ],
      "metadata": {
        "id": "M7tn-6rBwaUm"
      },
      "execution_count": null,
      "outputs": []
    },
    {
      "cell_type": "code",
      "source": [
        "# 구구단 5단을 다음과 같이 출력하세요:\n",
        "# 5 x 1 = 5\n",
        "# 5 x 2 = 10\n",
        "# ...\n",
        "\n",
        "for i in range(1, 10):\n",
        "    print(\"5 x\", i, \"=\", 5 * i)\n"
      ],
      "metadata": {
        "id": "MVduNO0awb-5"
      },
      "execution_count": null,
      "outputs": []
    },
    {
      "cell_type": "code",
      "source": [
        "# numbers 리스트 안의 숫자들을 모두 더한 합계를 출력하세요.\n",
        "\n",
        "numbers = [3, 7, 1, 9, 5]\n",
        "total = 0\n",
        "\n",
        "for num in numbers:\n",
        "    total += num\n",
        "\n",
        "print(\"합계:\", total)\n"
      ],
      "metadata": {
        "id": "ZciQp7vLwd2s"
      },
      "execution_count": null,
      "outputs": []
    },
    {
      "cell_type": "code",
      "source": [
        "# 사용자가 입력한 문자열을 한 글자씩 줄바꿈하여 출력하세요.\n",
        "\n",
        "text = input(\"문장을 입력하세요: \")\n",
        "\n",
        "for char in text:\n",
        "    print(char)\n"
      ],
      "metadata": {
        "id": "Kz09SWSGwfin"
      },
      "execution_count": null,
      "outputs": []
    },
    {
      "cell_type": "code",
      "source": [
        "# 별(*)을 한 줄에 5개 가로로 출력하세요.\n",
        "\n",
        "for i in range(5):\n",
        "    print(\"*\", end=\"\")\n"
      ],
      "metadata": {
        "id": "geNQVPvUwhRa"
      },
      "execution_count": null,
      "outputs": []
    },
    {
      "cell_type": "code",
      "source": [
        "# 리스트를 역순으로 출력하세요.\n",
        "\n",
        "nums = [1, 2, 3, 4, 5]\n",
        "\n",
        "for i in reversed(nums):\n",
        "    print(i)\n"
      ],
      "metadata": {
        "id": "tOzZWuPcwiXH"
      },
      "execution_count": null,
      "outputs": []
    },
    {
      "cell_type": "code",
      "source": [
        "# 구구단 2단부터 4단까지 출력해보세요.\n",
        "# 단과 곱하는 수를 중첩된 for문으로 표현하세요.\n",
        "\n",
        "for dan in range(2, 5):\n",
        "    for i in range(1, 10):\n",
        "        print(f\"{dan} x {i} = {dan * i}\")\n",
        "    print(\"------\")\n"
      ],
      "metadata": {
        "id": "IgAlWVHUwjv7"
      },
      "execution_count": null,
      "outputs": []
    }
  ]
}