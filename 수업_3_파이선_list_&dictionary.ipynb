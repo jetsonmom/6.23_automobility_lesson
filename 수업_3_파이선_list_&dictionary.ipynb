{
  "nbformat": 4,
  "nbformat_minor": 0,
  "metadata": {
    "colab": {
      "private_outputs": true,
      "provenance": [],
      "authorship_tag": "ABX9TyMXcoRn+3bNUwIG8tcbgEGj",
      "include_colab_link": true
    },
    "kernelspec": {
      "name": "python3",
      "display_name": "Python 3"
    },
    "language_info": {
      "name": "python"
    }
  },
  "cells": [
    {
      "cell_type": "markdown",
      "metadata": {
        "id": "view-in-github",
        "colab_type": "text"
      },
      "source": [
        "<a href=\"https://colab.research.google.com/github/jetsonmom/6.23_automobility_lesson/blob/main/%EC%88%98%EC%97%85_3_%ED%8C%8C%EC%9D%B4%EC%84%A0_list_%26dictionary.ipynb\" target=\"_parent\"><img src=\"https://colab.research.google.com/assets/colab-badge.svg\" alt=\"Open In Colab\"/></a>"
      ]
    },
    {
      "cell_type": "code",
      "execution_count": null,
      "metadata": {
        "id": "ZHohueok00VD"
      },
      "outputs": [],
      "source": [
        "# 1. 센서 데이터 필터링 - 안전 거리 이상의 장애물만 추출\n",
        "sensor_distances = [2.5, 8.3, 1.2, 15.7, 3.8, 0.9, 12.4, 6.1]\n",
        "safe_distances = [dist for dist in sensor_distances if dist > 5.0]\n",
        "print(\"안전 거리 이상 장애물:\", safe_distances)"
      ]
    },
    {
      "cell_type": "code",
      "source": [
        "# 2. 좌표 변환 - 상대 좌표를 절대 좌표로 변환\n",
        "vehicle_position = (10, 20)  # 차량 현재 위치\n",
        "relative_points = [(1, 2), (-3, 4), (5, -1), (0, 3)]\n",
        "absolute_points = [(x + vehicle_position[0], y + vehicle_position[1])\n",
        "                   for x, y in relative_points]\n",
        "print(\"절대 좌표:\", absolute_points)"
      ],
      "metadata": {
        "id": "ywtLZD8m6Bx_"
      },
      "execution_count": null,
      "outputs": []
    },
    {
      "cell_type": "code",
      "source": [
        "# 3. 속도 제한 적용 - 각 구간별 최대 속도 제한\n",
        "current_speeds = [45, 75, 38, 82, 55, 95, 28]\n",
        "speed_limits = [50, 70, 40, 80, 60, 90, 30]\n",
        "adjusted_speeds = [min(current, limit)\n",
        "                   for current, limit in zip(current_speeds, speed_limits)]\n",
        "print(\"속도 제한 적용 후:\", adjusted_speeds)"
      ],
      "metadata": {
        "id": "RhmWP4Sn6Ewy"
      },
      "execution_count": null,
      "outputs": []
    },
    {
      "cell_type": "code",
      "source": [
        "# 4. 경로 포인트 생성 - 시작점과 끝점 사이의 중간 포인트들 생성\n",
        "start_point = (0, 0)\n",
        "end_point = (10, 8)\n",
        "num_points = 5\n",
        "path_points = [(start_point[0] + i * (end_point[0] - start_point[0]) / (num_points - 1),\n",
        "                start_point[1] + i * (end_point[1] - start_point[1]) / (num_points - 1))\n",
        "               for i in range(num_points)]\n",
        "print(\"경로 포인트들:\", path_points)"
      ],
      "metadata": {
        "id": "O056v5cu7pIc"
      },
      "execution_count": null,
      "outputs": []
    },
    {
      "cell_type": "markdown",
      "source": [
        "이 코드는 **여러 센서 중에서 위험한 상황을 감지한 센서들만 골라내는** 코드입니다:\n",
        "\n",
        "## 센서 데이터 분석\n",
        "\n",
        "### sensor_data 각 센서의 의미\n",
        "```python\n",
        "{'type': 'lidar', 'distance': 3.2, 'angle': 45}    # 라이다: 우측 45도, 3.2m\n",
        "{'type': 'camera', 'distance': 8.5, 'angle': 0}    # 카메라: 정면, 8.5m  \n",
        "{'type': 'radar', 'distance': 1.8, 'angle': -30}   # 레이더: 좌측 30도, 1.8m\n",
        "{'type': 'lidar', 'distance': 12.3, 'angle': 90}   # 라이다: 우측 90도, 12.3m\n",
        "```\n",
        "\n",
        "## 위험 조건 설정\n",
        "```python\n",
        "sensor['distance'] < 5.0 and abs(sensor['angle']) < 60\n",
        "```\n",
        "\n",
        "**두 조건을 모두 만족해야 위험**:\n",
        "1. `distance < 5.0`: **5미터 이내**에 장애물\n",
        "2. `abs(angle) < 60`: **정면 기준 좌우 60도 이내** (전방 주시 범위)\n",
        "\n",
        "## 각 센서별 검사 과정\n",
        "\n",
        "### 1번 센서 (라이다)\n",
        "- 거리: 3.2 < 5.0 ✅ (가까움)\n",
        "- 각도: |45| < 60 ✅ (전방 범위)\n",
        "- **결과**: **위험** ⚠️\n",
        "\n",
        "### 2번 센서 (카메라)  \n",
        "- 거리: 8.5 < 5.0 ❌ (충분히 멀음)\n",
        "- **결과**: 안전\n",
        "\n",
        "### 3번 센서 (레이더)\n",
        "- 거리: 1.8 < 5.0 ✅ (매우 가까움)  \n",
        "- 각도: |-30| < 60 ✅ (전방 범위)\n",
        "- **결과**: **위험** ⚠️\n",
        "\n",
        "### 4번 센서 (라이다)\n",
        "- 거리: 12.3 < 5.0 ❌ (충분히 멀음)\n",
        "- **결과**: 안전\n",
        "\n",
        "## 최종 결과\n",
        "```python\n",
        "danger_sensors = [\n",
        "    {'type': 'lidar', 'distance': 3.2, 'angle': 45},\n",
        "    {'type': 'radar', 'distance': 1.8, 'angle': -30}\n",
        "]\n",
        "```\n",
        "\n",
        "## 실제 의미\n",
        "**\"전방 60도 범위 내에서 5미터 이내에 장애물을 감지한 센서 2개 발견!\"**\n",
        "\n",
        "**자율주행차의 대응**:\n",
        "- 즉시 감속 또는 정지\n",
        "- 스티어링으로 회피\n",
        "- 경고음 발생\n",
        "- 비상등 점멸\n",
        "\n",
        "**쉽게 말하면**: 앞쪽에서 가까운 거리에 뭔가 있다는 **위험 신호**를 보낸 센서들만 골라낸 것입니다!"
      ],
      "metadata": {
        "id": "lxPZCZ3E8C8V"
      }
    },
    {
      "cell_type": "code",
      "source": [
        "# 5. 보너스: 조건부 다중 필터링 - 위험 상황 감지\n",
        "sensor_data = [\n",
        "    {'type': 'lidar', 'distance': 3.2, 'angle': 45},\n",
        "    {'type': 'camera', 'distance': 8.5, 'angle': 0},\n",
        "    {'type': 'radar', 'distance': 1.8, 'angle': -30},\n",
        "    {'type': 'lidar', 'distance': 12.3, 'angle': 90}\n",
        "]\n",
        "\n",
        "danger_sensors = [sensor for sensor in sensor_data\n",
        "                  if sensor['distance'] < 5.0 and abs(sensor['angle']) < 60]\n",
        "print(\"위험 감지 센서:\", danger_sensors)"
      ],
      "metadata": {
        "id": "TjrRDjf57tW3"
      },
      "execution_count": null,
      "outputs": []
    },
    {
      "cell_type": "code",
      "source": [
        "# 1. 센서 데이터 관리 - 리스트와 딕셔너리만 사용\n",
        "sensors = ['camera', 'lidar', 'radar', 'gps']\n",
        "distances = [8.5, 12.3, 15.7, 0]  # GPS는 거리가 아니므로 0\n",
        "\n",
        "# 센서별 감지 거리 매핑\n",
        "sensor_data = {}\n",
        "sensor_data['camera'] = 8.5\n",
        "sensor_data['lidar'] = 12.3\n",
        "sensor_data['radar'] = 15.7\n",
        "sensor_data['gps'] = 0\n",
        "\n",
        "print(\"센서 데이터:\", sensor_data)\n",
        "\n",
        "# 2. 경로 계획 - 목적지별 거리 정보\n",
        "destinations = ['집', '회사', '마트', '주유소']\n",
        "distances_km = [0, 15, 8, 12]\n",
        "\n",
        "route_plan = {}\n",
        "route_plan['집'] = 0\n",
        "route_plan['회사'] = 15\n",
        "route_plan['마트'] = 8\n",
        "route_plan['주유소'] = 12\n",
        "\n",
        "print(\"목적지별 거리:\", route_plan)\n",
        "\n",
        "# 3. 차량 상태 체크\n",
        "vehicle_parts = ['엔진', '브레이크', '타이어', '배터리']\n",
        "status_codes = ['정상', '정상', '교체필요', '정상']\n",
        "\n",
        "vehicle_status = {}\n",
        "vehicle_status['엔진'] = '정상'\n",
        "vehicle_status['브레이크'] = '정상'\n",
        "vehicle_status['타이어'] = '교체필요'\n",
        "vehicle_status['배터리'] = '정상'\n",
        "\n",
        "print(\"차량 상태:\", vehicle_status)\n",
        "\n",
        "# 4. 신호등 정보 관리\n",
        "intersections = ['서울역', '강남역', '홍대입구']\n",
        "light_colors = ['빨강', '초록', '노랑']\n",
        "\n",
        "traffic_lights = {}\n",
        "traffic_lights['서울역'] = '빨강'\n",
        "traffic_lights['강남역'] = '초록'\n",
        "traffic_lights['홍대입구'] = '노랑'\n",
        "\n",
        "print(\"교차로 신호등:\", traffic_lights)\n",
        "\n",
        "# 5. 주차장 정보\n",
        "parking_zones = ['A구역', 'B구역', 'C구역', 'D구역']\n",
        "empty_spots = [5, 0, 12, 3]\n",
        "\n",
        "parking_info = {}\n",
        "parking_info['A구역'] = 5\n",
        "parking_info['B구역'] = 0\n",
        "parking_info['C구역'] = 12\n",
        "parking_info['D구역'] = 3\n",
        "\n",
        "print(\"주차장 빈자리:\", parking_info)\n",
        "\n",
        "# 6. 속도 제한 구간\n",
        "road_sections = ['시내도로', '국도', '고속도로', '스쿨존']\n",
        "speed_limits = [50, 70, 100, 30]\n",
        "\n",
        "speed_zones = {}\n",
        "speed_zones['시내도로'] = 50\n",
        "speed_zones['국도'] = 70\n",
        "speed_zones['고속도로'] = 100\n",
        "speed_zones['스쿨존'] = 30\n",
        "\n",
        "print(\"구간별 제한속도:\", speed_zones)\n",
        "\n",
        "# 7. 연료/충전소 정보\n",
        "station_names = ['GS칼텍스', '현대오일뱅크', '테슬라충전소', 'SK에너지']\n",
        "distances_to_stations = [2.5, 5.8, 1.2, 4.3]\n",
        "\n",
        "fuel_stations = {}\n",
        "fuel_stations['GS칼텍스'] = 2.5\n",
        "fuel_stations['현대오일뱅크'] = 5.8\n",
        "fuel_stations['테슬라충전소'] = 1.2\n",
        "fuel_stations['SK에너지'] = 4.3\n",
        "\n",
        "print(\"주유소까지 거리:\", fuel_stations)\n",
        "\n",
        "# 8. 날씨별 주행 모드\n",
        "weather_conditions = ['맑음', '비', '눈', '안개']\n",
        "drive_modes = ['일반', '주의', '서행', '서행']\n",
        "\n",
        "weather_driving = {}\n",
        "weather_driving['맑음'] = '일반'\n",
        "weather_driving['비'] = '주의'\n",
        "weather_driving['눈'] = '서행'\n",
        "weather_driving['안개'] = '서행'\n",
        "\n",
        "print(\"날씨별 주행모드:\", weather_driving)\n",
        "\n",
        "# 9. 간단한 데이터 조회 예제\n",
        "print(\"\\n=== 데이터 조회 예제 ===\")\n",
        "print(\"라이다 센서 거리:\", sensor_data['lidar'], \"미터\")\n",
        "print(\"회사까지 거리:\", route_plan['회사'], \"km\")\n",
        "print(\"타이어 상태:\", vehicle_status['타이어'])\n",
        "print(\"강남역 신호등:\", traffic_lights['강남역'])\n",
        "print(\"C구역 빈자리:\", parking_info['C구역'], \"개\")\n",
        "print(\"고속도로 제한속도:\", speed_zones['고속도로'], \"km/h\")\n",
        "print(\"가장 가까운 충전소:\", \"테슬라충전소\", fuel_stations['테슬라충전소'], \"km\")\n",
        "print(\"비올 때 주행모드:\", weather_driving['비'])"
      ],
      "metadata": {
        "id": "zA88PCqaL59P"
      },
      "execution_count": null,
      "outputs": []
    },
    {
      "cell_type": "markdown",
      "source": [
        "미션  강남역 갈 때 강남대로, 테헤란로 중 선택하고 여의도 갈 때 올림픽대로, 한강대로 중 하나를 선택하는 코드 만들기 if문 추가"
      ],
      "metadata": {
        "id": "n7irsiWMPEVU"
      }
    }
  ]
}